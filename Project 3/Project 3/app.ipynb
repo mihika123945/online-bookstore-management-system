{
 "cells": [
  {
   "cell_type": "code",
   "execution_count": 13,
   "id": "fe29b757",
   "metadata": {},
   "outputs": [
    {
     "data": {
      "text/plain": [
       "InsertManyResult([1, 2, 3, 4, 5, 6, 7, 8, 9, 10], acknowledged=True)"
      ]
     },
     "execution_count": 13,
     "metadata": {},
     "output_type": "execute_result"
    }
   ],
   "source": [
    "from pymongo import MongoClient\n",
    "import json\n",
    "from dotenv import load_dotenv\n",
    "import os\n",
    "\n",
    "load_dotenv()\n",
    "uri = os.getenv(\"MONGODB_URI\")\n",
    "\n",
    "client = MongoClient(uri)\n",
    "db = client[\"bookstore\"]\n",
    "collection = db[\"customers\"]\n",
    "\n",
    "with open(\"collection.json\", \"r\") as f:\n",
    "    data = json.load(f)\n",
    "collection.insert_many(data)\n"
   ]
  },
  {
   "cell_type": "code",
   "execution_count": 16,
   "id": "9138c59e",
   "metadata": {},
   "outputs": [],
   "source": [
    "from langchain.chat_models import ChatOpenAI\n",
    "from dotenv import load_dotenv\n",
    "from pymongo import MongoClient\n",
    "import os\n",
    "import json\n",
    "\n",
    "load_dotenv()\n",
    "\n",
    "# 🔑 Load keys\n",
    "MONGO_URI = os.getenv(\"MONGODB_URI\")\n",
    "OPENROUTER_KEY = os.getenv(\"API_KEY\")  \n",
    "\n",
    "# ✅ Connect to MongoDB\n",
    "client = MongoClient(MONGO_URI)\n",
    "collection = client[\"bookstore\"][\"customers\"]\n",
    "\n",
    "# ✅ Set up LLM\n",
    "llm = ChatOpenAI(\n",
    "    model=\"mistralai/mixtral-8x7b-instruct\",\n",
    "    temperature=0,\n",
    "    openai_api_key=OPENROUTER_KEY,\n",
    "    openai_api_base=\"https://openrouter.ai/api/v1\"\n",
    ")\n",
    "\n",
    "# ✅ Build prompt to get aggregation pipeline\n",
    "def ask_llm_for_pipeline(user_question):\n",
    "    prompt = f\"\"\"\n",
    "You are a MongoDB expert. The 'customers' collection has this schema:\n",
    "Each customer document may contain an \"Orders\" array.\n",
    "Each \"Order\" contains \"OrderDetails\", which is an array of books with fields:\n",
    "- Title\n",
    "- Quantity\n",
    "- Price\n",
    "- Subtotal\n",
    "\n",
    "Given this structure, generate a MongoDB aggregation pipeline to answer:\n",
    "\"{user_question}\"\n",
    "\n",
    "Return only a valid JSON array. Do not include any explanation or comments.\n",
    "\"\"\"\n",
    "    response = llm.predict(prompt)\n",
    "    return response.strip()\n",
    "# ✅ Execute the pipeline\n",
    "def run_pipeline(pipeline_json_str):\n",
    "    try:\n",
    "        pipeline = json.loads(pipeline_json_str)\n",
    "        result = list(collection.aggregate(pipeline))\n",
    "        return result\n",
    "    except Exception as e:\n",
    "        return f\"❌ Error: {str(e)}\"\n",
    "\n",
    "\n"
   ]
  },
  {
   "cell_type": "code",
   "execution_count": 19,
   "id": "b57be421",
   "metadata": {},
   "outputs": [
    {
     "name": "stdout",
     "output_type": "stream",
     "text": [
      "Generated Pipeline:\n",
      " [\n",
      "  {\n",
      "    \"$unwind\": \"$Orders\"\n",
      "  },\n",
      "  {\n",
      "    \"$unwind\": \"$Orders.OrderDetails\"\n",
      "  },\n",
      "  {\n",
      "    \"$group\": {\n",
      "      \"_id\": \"$Orders.OrderDetails.Title\",\n",
      "      \"totalRevenue\": {\n",
      "        \"$sum\": \"$Orders.OrderDetails.Subtotal\"\n",
      "      }\n",
      "    }\n",
      "  },\n",
      "  {\n",
      "    \"$sort\": {\n",
      "      \"totalRevenue\": -1\n",
      "    }\n",
      "  },\n",
      "  {\n",
      "    \"$limit\": 5\n",
      "  },\n",
      "  {\n",
      "    \"$project\": {\n",
      "      \"_id\": 0,\n",
      "      \"Title\": \"$_id\",\n",
      "      \"TotalRevenue\": \"$totalRevenue\"\n",
      "    }\n",
      "  }\n",
      "]\n",
      "\n",
      "Results:\n",
      " [{'Title': 'Subject development.', 'TotalRevenue': 1138.88}, {'Title': 'Film possible enough anyone.', 'TotalRevenue': 968.99}, {'Title': 'Impact second.', 'TotalRevenue': 854.28}, {'Title': 'Last music.', 'TotalRevenue': 793.9200000000001}, {'Title': 'Research edge.', 'TotalRevenue': 769.04}]\n"
     ]
    }
   ],
   "source": [
    "# 🔎 Sample test\n",
    "user_question = \"What are the top 5 books by total revenue?\"\n",
    "pipeline_str = ask_llm_for_pipeline(user_question)\n",
    "print(\"Generated Pipeline:\\n\", pipeline_str)\n",
    "\n",
    "results = run_pipeline(pipeline_str)\n",
    "print(\"\\nResults:\\n\", results)"
   ]
  },
  {
   "cell_type": "code",
   "execution_count": null,
   "id": "1584171f",
   "metadata": {},
   "outputs": [],
   "source": []
  }
 ],
 "metadata": {
  "kernelspec": {
   "display_name": "Python 3",
   "language": "python",
   "name": "python3"
  },
  "language_info": {
   "codemirror_mode": {
    "name": "ipython",
    "version": 3
   },
   "file_extension": ".py",
   "mimetype": "text/x-python",
   "name": "python",
   "nbconvert_exporter": "python",
   "pygments_lexer": "ipython3",
   "version": "3.10.1"
  }
 },
 "nbformat": 4,
 "nbformat_minor": 5
}
